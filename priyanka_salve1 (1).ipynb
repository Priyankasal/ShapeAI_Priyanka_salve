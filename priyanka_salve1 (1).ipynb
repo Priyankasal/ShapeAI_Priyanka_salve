{
  "nbformat": 4,
  "nbformat_minor": 0,
  "metadata": {
    "colab": {
      "name": "priyanka salve1.ipynb",
      "provenance": [],
      "collapsed_sections": []
    },
    "kernelspec": {
      "name": "python3",
      "display_name": "Python 3"
    },
    "language_info": {
      "name": "python"
    }
  },
  "cells": [
    {
      "cell_type": "code",
      "metadata": {
        "id": "Qv0oLWBi675E"
      },
      "source": [
        "from keras.datasets import mnist\n",
        "\n",
        "data = mnist.load_data()"
      ],
      "execution_count": 67,
      "outputs": []
    },
    {
      "cell_type": "code",
      "metadata": {
        "id": "b4Sg_02g9gDl"
      },
      "source": [
        "((X_train, y_train), (X_test, y_test)) = data"
      ],
      "execution_count": 68,
      "outputs": []
    },
    {
      "cell_type": "code",
      "metadata": {
        "colab": {
          "base_uri": "https://localhost:8080/"
        },
        "id": "pBVl0wmz-v1C",
        "outputId": "daf585ee-898e-414e-aea8-1176662fad95"
      },
      "source": [
        "# Shape of Training DATA\n",
        "X_train[0].shape"
      ],
      "execution_count": 69,
      "outputs": [
        {
          "output_type": "execute_result",
          "data": {
            "text/plain": [
              "(28, 28)"
            ]
          },
          "metadata": {
            "tags": []
          },
          "execution_count": 69
        }
      ]
    },
    {
      "cell_type": "code",
      "metadata": {
        "id": "EOMbQY57_Jby"
      },
      "source": [
        "# Reshape the Training data\n",
        "X_train = X_train.reshape((X_train.shape[0], 28*28)).astype('float32')\n",
        "X_test =X_test.reshape((X_test.shape[0],28*28)).astype('float32')"
      ],
      "execution_count": 70,
      "outputs": []
    },
    {
      "cell_type": "code",
      "metadata": {
        "id": "Y5Tmvjvy_9Mo"
      },
      "source": [
        "# Normalizing values from 0-255 to 0-1\n",
        "X_train = X_train / 255\n",
        "X_test = X_test / 255\n"
      ],
      "execution_count": 71,
      "outputs": []
    },
    {
      "cell_type": "code",
      "metadata": {
        "colab": {
          "base_uri": "https://localhost:8080/"
        },
        "id": "c2GzuJkBB06g",
        "outputId": "626c1500-9155-45d9-bf3a-e487419391b6"
      },
      "source": [
        " from keras.utils import np_utils\n",
        "  \n",
        " print(y_test.shape)\n",
        " \n",
        " y_train = np_utils.to_categorical(y_train)\n",
        " y_test = np_utils.to_categorical(y_test)\n",
        " \n",
        " num_classes = y_test.shape[1]\n",
        " print(y_test.shape)"
      ],
      "execution_count": 72,
      "outputs": [
        {
          "output_type": "stream",
          "text": [
            "(10000,)\n",
            "(10000, 10)\n"
          ],
          "name": "stdout"
        }
      ]
    },
    {
      "cell_type": "code",
      "metadata": {
        "id": "w_pBxDuoIPjX"
      },
      "source": [
        " from keras.models import Sequential\n",
        " from keras.layers import Dense"
      ],
      "execution_count": 74,
      "outputs": []
    },
    {
      "cell_type": "code",
      "metadata": {
        "id": "0S5CnFw7PLzf"
      },
      "source": [
        "# Define Model\n",
        "model = Sequential()\n",
        "\n",
        "# Add First Hidden Layer\n",
        "model.add(Dense(32, input_dim = 28*28, activation='relu'))\n",
        "\n",
        "# Add Second Hidden Layer\n",
        "model.add(Dense(64, activation='relu'))\n",
        "\n",
        "# Add output layer having 10 neurons (since there are 10 classes/catergories in )\n",
        "model.add(Dense(10, activation='softmax'))"
      ],
      "execution_count": 75,
      "outputs": []
    },
    {
      "cell_type": "code",
      "metadata": {
        "id": "gvCezGFBRoXw"
      },
      "source": [
        "# Compile Model\n",
        "model.compile(loss='categorical_crossentropy', optimizer='adam', metrics=['accuracy'])"
      ],
      "execution_count": 76,
      "outputs": []
    },
    {
      "cell_type": "code",
      "metadata": {
        "colab": {
          "base_uri": "https://localhost:8080/"
        },
        "id": "iKOE_FKTShuG",
        "outputId": "092767cb-4f73-4987-969e-1cabd7997ce0"
      },
      "source": [
        "# Print Model summary\n",
        "model.summary()"
      ],
      "execution_count": 78,
      "outputs": [
        {
          "output_type": "stream",
          "text": [
            "Model: \"sequential_4\"\n",
            "_________________________________________________________________\n",
            "Layer (type)                 Output Shape              Param #   \n",
            "=================================================================\n",
            "dense_3 (Dense)              (None, 32)                25120     \n",
            "_________________________________________________________________\n",
            "dense_4 (Dense)              (None, 64)                2112      \n",
            "_________________________________________________________________\n",
            "dense_5 (Dense)              (None, 10)                650       \n",
            "=================================================================\n",
            "Total params: 27,882\n",
            "Trainable params: 27,882\n",
            "Non-trainable params: 0\n",
            "_________________________________________________________________\n"
          ],
          "name": "stdout"
        }
      ]
    },
    {
      "cell_type": "code",
      "metadata": {
        "colab": {
          "base_uri": "https://localhost:8080/"
        },
        "id": "nQgamiWKStfX",
        "outputId": "b296b59c-cb9e-48cd-866d-4f26b421bb34"
      },
      "source": [
        "# Train Model\n",
        "model.fit(X_train, y_train, epochs=10, batch_size=100)"
      ],
      "execution_count": 79,
      "outputs": [
        {
          "output_type": "stream",
          "text": [
            "Epoch 1/10\n",
            "600/600 [==============================] - 2s 2ms/step - loss: 0.7899 - accuracy: 0.7689\n",
            "Epoch 2/10\n",
            "600/600 [==============================] - 1s 2ms/step - loss: 0.2135 - accuracy: 0.9363\n",
            "Epoch 3/10\n",
            "600/600 [==============================] - 1s 2ms/step - loss: 0.1587 - accuracy: 0.9527\n",
            "Epoch 4/10\n",
            "600/600 [==============================] - 1s 2ms/step - loss: 0.1300 - accuracy: 0.9614\n",
            "Epoch 5/10\n",
            "600/600 [==============================] - 1s 2ms/step - loss: 0.1090 - accuracy: 0.9678\n",
            "Epoch 6/10\n",
            "600/600 [==============================] - 1s 2ms/step - loss: 0.0960 - accuracy: 0.9714\n",
            "Epoch 7/10\n",
            "600/600 [==============================] - 1s 2ms/step - loss: 0.0831 - accuracy: 0.9750\n",
            "Epoch 8/10\n",
            "600/600 [==============================] - 1s 2ms/step - loss: 0.0782 - accuracy: 0.9764\n",
            "Epoch 9/10\n",
            "600/600 [==============================] - 1s 2ms/step - loss: 0.0647 - accuracy: 0.9800\n",
            "Epoch 10/10\n",
            "600/600 [==============================] - 1s 2ms/step - loss: 0.0651 - accuracy: 0.9801\n"
          ],
          "name": "stdout"
        },
        {
          "output_type": "execute_result",
          "data": {
            "text/plain": [
              "<tensorflow.python.keras.callbacks.History at 0x7f3bf2b64d50>"
            ]
          },
          "metadata": {
            "tags": []
          },
          "execution_count": 79
        }
      ]
    },
    {
      "cell_type": "code",
      "metadata": {
        "colab": {
          "base_uri": "https://localhost:8080/"
        },
        "id": "VAPwKx_bU5as",
        "outputId": "e3b87fcd-739e-4757-87cf-189d5e956f9a"
      },
      "source": [
        "scores = model.evaluate(X_test, y_test)\n",
        "print(scores) ## returns loss and accuracy"
      ],
      "execution_count": 81,
      "outputs": [
        {
          "output_type": "stream",
          "text": [
            "313/313 [==============================] - 0s 956us/step - loss: 0.0985 - accuracy: 0.9707\n",
            "[0.09854390472173691, 0.9707000255584717]\n"
          ],
          "name": "stdout"
        }
      ]
    },
    {
      "cell_type": "code",
      "metadata": {
        "id": "1K4XOn0rVbUv"
      },
      "source": [
        ""
      ],
      "execution_count": null,
      "outputs": []
    }
  ]
}